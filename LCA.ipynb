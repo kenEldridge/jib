{
 "cells": [
  {
   "cell_type": "markdown",
   "metadata": {},
   "source": [
    "## Gotta have a node class, yo"
   ]
  },
  {
   "cell_type": "code",
   "execution_count": 1,
   "metadata": {
    "collapsed": true
   },
   "outputs": [],
   "source": [
    "class Node:\n",
    "    def __init__(self, val=None, left=None, right=None):\n",
    "        self.val = val\n",
    "        self.left = left\n",
    "        self.right = right"
   ]
  },
  {
   "cell_type": "markdown",
   "metadata": {},
   "source": [
    "## What shall we return?\n",
    "### I honestly don't know\n",
    "#### I can think of a shitty way...\n",
    "Let's just return a tuple with (A_found, B_found, lca).  If lca is not null then that's it, you're done! Otherwise bubble up, whynot."
   ]
  },
  {
   "cell_type": "code",
   "execution_count": 2,
   "metadata": {
    "collapsed": false
   },
   "outputs": [],
   "source": [
    "from collections import namedtuple\n",
    "LCA_tup = namedtuple('LCA_tup', ['a_found', 'b_found', 'lca'])"
   ]
  },
  {
   "cell_type": "markdown",
   "metadata": {},
   "source": [
    "### We'll need a wrapped function\n",
    "Just call the wrapper once with .lca at the end"
   ]
  },
  {
   "cell_type": "code",
   "execution_count": 3,
   "metadata": {
    "collapsed": true
   },
   "outputs": [],
   "source": [
    "def lca_outer(A, B, node):\n",
    "    return lca(A, B, node).lca"
   ]
  },
  {
   "cell_type": "markdown",
   "metadata": {},
   "source": [
    "### Post-order traversal recusive call\n",
    "Are we looking for A and B as nodes or values?  Nodes is more straight-forward, we can assume they are unique.  I'm not sure how exactally we'd define LCA if we're only looking at values...so let's just assume we can actually make the node comparisons.  Which means the inputs are actually three nodes."
   ]
  },
  {
   "cell_type": "code",
   "execution_count": 4,
   "metadata": {
    "collapsed": false
   },
   "outputs": [],
   "source": [
    "def lca(A, B, node):\n",
    "    if not node:\n",
    "        return LCA_tup(False, False, None)\n",
    "    left = lca(A, B, node.left)\n",
    "    right = lca(A, B, node.right)\n",
    "    if left.lca is not None:\n",
    "        return left\n",
    "    elif right.lca is not None:\n",
    "        return right\n",
    "    elif ((left.a_found or right.a_found)\n",
    "        and (left.b_found or right.b_found)):\n",
    "        return LCA_tup(True, True, node)\n",
    "    else:\n",
    "        return LCA_tup(left.a_found or right.a_found or node is A,\n",
    "                       left.b_found or right.b_found or node is B,\n",
    "                      None)"
   ]
  },
  {
   "cell_type": "markdown",
   "metadata": {},
   "source": [
    "#### Test case #1\n",
    "        1\n",
    "       / \\\n",
    "      2   3\n",
    "     / \\\n",
    "    4   5"
   ]
  },
  {
   "cell_type": "code",
   "execution_count": 5,
   "metadata": {
    "collapsed": false,
    "scrolled": false
   },
   "outputs": [],
   "source": [
    "one = Node(val=1)\n",
    "two = Node(val=2)\n",
    "three = Node(val=3)\n",
    "four = Node(val=4)\n",
    "five = Node(val=5)\n",
    "one.left = two\n",
    "one.right = three\n",
    "two.left = four\n",
    "two.right = five\n",
    "assert lca_outer(one, one, one) is None\n",
    "assert lca_outer(one, two, one) is None\n",
    "assert lca_outer(one, three, one) is None\n",
    "assert lca_outer(one, four, one) is None\n",
    "assert lca_outer(one, five, one) is None\n",
    "assert lca_outer(two, one, one) is None\n",
    "assert lca_outer(two, two, one) is one\n",
    "assert lca_outer(two, three, one) is one\n",
    "assert lca_outer(two, four, one) is one\n",
    "assert lca_outer(two, five, one) is one\n",
    "assert lca_outer(three, one, one) is None\n",
    "assert lca_outer(three, two, one) is one\n",
    "assert lca_outer(three, three, one) is one\n",
    "assert lca_outer(three, four, one) is one\n",
    "assert lca_outer(three, five, one) is one\n",
    "assert lca_outer(four, one, one) is None\n",
    "assert lca_outer(four, two, one) is one\n",
    "assert lca_outer(four, three, one) is one\n",
    "assert lca_outer(four, four, one) is two\n",
    "assert lca_outer(four, five, one) is two\n",
    "assert lca_outer(five, one, one) is None\n",
    "assert lca_outer(five, two, one) is one\n",
    "assert lca_outer(five, three, one) is one\n",
    "assert lca_outer(five, four, one) is two\n",
    "assert lca_outer(five, five, one) is two"
   ]
  },
  {
   "cell_type": "markdown",
   "metadata": {},
   "source": [
    "#### Test case #2\n",
    "        1\n",
    "       /\n",
    "      2\n",
    "     /\n",
    "    3"
   ]
  },
  {
   "cell_type": "code",
   "execution_count": 6,
   "metadata": {
    "collapsed": false
   },
   "outputs": [],
   "source": [
    "one = Node(val=1)\n",
    "two = Node(val=2)\n",
    "three = Node(val=3)\n",
    "one.left = two\n",
    "two.left = three\n",
    "assert lca_outer(one, one, one) is None\n",
    "assert lca_outer(one, two, one) is None\n",
    "assert lca_outer(one, three, one) is None\n",
    "assert lca_outer(two, one, one) is None\n",
    "assert lca_outer(two, two, one) is one\n",
    "assert lca_outer(two, three, one) is one\n",
    "assert lca_outer(three, one, one) is None\n",
    "assert lca_outer(three, two, one) is one\n",
    "assert lca_outer(three, three, one) is two\n",
    "# Test for no common ancestor\n",
    "assert lca_outer(Node(val=99), three, one) is None"
   ]
  }
 ],
 "metadata": {
  "anaconda-cloud": {},
  "kernelspec": {
   "display_name": "Python [Root]",
   "language": "python",
   "name": "Python [Root]"
  },
  "language_info": {
   "codemirror_mode": {
    "name": "ipython",
    "version": 3
   },
   "file_extension": ".py",
   "mimetype": "text/x-python",
   "name": "python",
   "nbconvert_exporter": "python",
   "pygments_lexer": "ipython3",
   "version": "3.5.2"
  }
 },
 "nbformat": 4,
 "nbformat_minor": 0
}
