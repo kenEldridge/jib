{
 "cells": [
  {
   "cell_type": "markdown",
   "metadata": {},
   "source": [
    "## Node"
   ]
  },
  {
   "cell_type": "code",
   "execution_count": 40,
   "metadata": {
    "collapsed": false
   },
   "outputs": [],
   "source": [
    "from collections import deque\n",
    "\n",
    "class Node:\n",
    "    def __init__(self, val=None):\n",
    "        self.val = val\n",
    "        self.children = set()\n",
    "    \n",
    "    def add_child(self, child):\n",
    "        self.children.add(child)\n",
    "        \n",
    "    def get_child(self, val):\n",
    "        rtn_child = None\n",
    "        for child in self.children:\n",
    "            if child.val == val:\n",
    "                rtn_child = child\n",
    "                break\n",
    "        return rtn_child\n",
    "    \n",
    "    def bfs(self, q, rtn_lst):\n",
    "        while q:\n",
    "            node = q.popleft()\n",
    "            for child in node.children:\n",
    "                q.append(child)\n",
    "            rtn_lst.append(node.val)\n",
    "        return rtn_lst\n",
    "    \n",
    "    def __str__(self):\n",
    "        q = deque()\n",
    "        q.append(self)\n",
    "        return ' '.join(self.bfs(q, []))"
   ]
  },
  {
   "cell_type": "markdown",
   "metadata": {},
   "source": [
    "## Add Word"
   ]
  },
  {
   "cell_type": "code",
   "execution_count": 2,
   "metadata": {
    "collapsed": false
   },
   "outputs": [],
   "source": [
    "def add_word(node, word):\n",
    "    for i in range(1, len(word)):\n",
    "        child = node.get_child(word[i])\n",
    "        if not child:\n",
    "            child = Node(val=word[i])\n",
    "            node.add_child(child)\n",
    "        node = child\n",
    "    node.add_child(Node(val='end'))"
   ]
  },
  {
   "cell_type": "markdown",
   "metadata": {},
   "source": [
    "## Build Dictionary"
   ]
  },
  {
   "cell_type": "code",
   "execution_count": 3,
   "metadata": {
    "collapsed": true
   },
   "outputs": [],
   "source": [
    "def build_dictionay(words):\n",
    "    words_dict = {}\n",
    "    for word in words:\n",
    "        if word[0] not in words_dict:\n",
    "            words_dict[word[0]] = Node(val=word[0])\n",
    "        add_word(node=words_dict[word[0]], word=word)\n",
    "    return words_dict"
   ]
  },
  {
   "cell_type": "markdown",
   "metadata": {},
   "source": [
    "## Search Tree"
   ]
  },
  {
   "cell_type": "code",
   "execution_count": 4,
   "metadata": {
    "collapsed": false
   },
   "outputs": [],
   "source": [
    "def search_tree(word, position, node):\n",
    "    if (word[position] != node.val\n",
    "           and word[position] != '*'):\n",
    "        return False\n",
    "    elif position == len(word) - 1:\n",
    "            if node.get_child('end'):\n",
    "                return True\n",
    "            else:\n",
    "                return False\n",
    "    found = []\n",
    "    for child in node.children:\n",
    "        found.append(search_tree(word, position + 1, child))\n",
    "    if sum(found) > 0:\n",
    "        return True\n",
    "    else:\n",
    "        return False"
   ]
  },
  {
   "cell_type": "markdown",
   "metadata": {},
   "source": [
    "## Find Match"
   ]
  },
  {
   "cell_type": "code",
   "execution_count": 60,
   "metadata": {
    "collapsed": true
   },
   "outputs": [],
   "source": [
    "def find_match(word, dictionary):\n",
    "    if word[0] == '*':\n",
    "        found = []\n",
    "        for k, node in dictionary.items():\n",
    "            found.append(search_tree(word=word, position=0, node=node))\n",
    "        if sum(found) > 0:\n",
    "            return True\n",
    "        else:\n",
    "            return False\n",
    "    if (word[0] not in dictionary\n",
    "        and word[0] != '*'):\n",
    "        return False\n",
    "    else:\n",
    "        start_node = dictionary[word[0]]\n",
    "        return search_tree(word=word, position=0, node=start_node)"
   ]
  },
  {
   "cell_type": "markdown",
   "metadata": {},
   "source": [
    "## Build dictionary"
   ]
  },
  {
   "cell_type": "code",
   "execution_count": 61,
   "metadata": {
    "collapsed": false
   },
   "outputs": [],
   "source": [
    "words = ['cat', 'bat', 'phat', 'at', 'can', 'candy', 'c']\n",
    "words_dict = build_dictionay(words=words)"
   ]
  },
  {
   "cell_type": "markdown",
   "metadata": {},
   "source": [
    "## Test some words, yo"
   ]
  },
  {
   "cell_type": "code",
   "execution_count": 64,
   "metadata": {
    "collapsed": false
   },
   "outputs": [
    {
     "name": "stdout",
     "output_type": "stream",
     "text": [
      "[True, True, True, True, True, True, True, True, True, True, True]\n",
      "[False, False, False, False, False]\n"
     ]
    }
   ],
   "source": [
    "true_words = ['can', 'ca*', 'ca*dy', 'p***', 'p**t', 'c', '**', '*at', '***', '****y', '*']\n",
    "false_words = ['capdy', 'b', 'z', 'p', 'batman']\n",
    "print([find_match(word=word, dictionary=words_dict) for word in true_words])\n",
    "print([find_match(word=word, dictionary=words_dict) for word in false_words])"
   ]
  }
 ],
 "metadata": {
  "anaconda-cloud": {},
  "kernelspec": {
   "display_name": "Python [Root]",
   "language": "python",
   "name": "Python [Root]"
  },
  "language_info": {
   "codemirror_mode": {
    "name": "ipython",
    "version": 3
   },
   "file_extension": ".py",
   "mimetype": "text/x-python",
   "name": "python",
   "nbconvert_exporter": "python",
   "pygments_lexer": "ipython3",
   "version": "3.5.2"
  }
 },
 "nbformat": 4,
 "nbformat_minor": 0
}
